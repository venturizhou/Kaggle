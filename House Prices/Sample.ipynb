{
 "metadata": {
  "language_info": {
   "codemirror_mode": {
    "name": "ipython",
    "version": 3
   },
   "file_extension": ".py",
   "mimetype": "text/x-python",
   "name": "python",
   "nbconvert_exporter": "python",
   "pygments_lexer": "ipython3",
   "version": "3.8.4-final"
  },
  "orig_nbformat": 2,
  "kernelspec": {
   "name": "python_defaultSpec_1597418365475",
   "display_name": "Python 3.8.4 64-bit"
  }
 },
 "nbformat": 4,
 "nbformat_minor": 2,
 "cells": [
  {
   "cell_type": "code",
   "execution_count": 2,
   "metadata": {},
   "outputs": [],
   "source": [
    "import numpy as np\n",
    "import pandas as pd\n"
   ]
  },
  {
   "cell_type": "code",
   "execution_count": 3,
   "metadata": {},
   "outputs": [],
   "source": [
    "train = pd.read_csv('/mnt/c/users/ventu/Python/Kaggle/House Prices/train.csv')\n",
    "test = pd.read_csv('//mnt/c/users/ventu/Python/Kaggle/House Prices/test.csv')\n"
   ]
  },
  {
   "cell_type": "code",
   "execution_count": 4,
   "metadata": {},
   "outputs": [],
   "source": [
    "from sklearn.model_selection import train_test_split\n",
    "from sklearn.ensemble import RandomForestRegressor\n",
    "\n",
    "train = pd.read_csv('/mnt/c/users/ventu/Python/Kaggle/House Prices/train.csv')\n",
    "test = pd.read_csv('/mnt/c/users/ventu/Python/Kaggle/House Prices/test.csv')\n",
    "\n"
   ]
  },
  {
   "cell_type": "code",
   "execution_count": 5,
   "metadata": {
    "tags": []
   },
   "outputs": [],
   "source": [
    "xp_train = train.copy()\n",
    "xp_train.drop\n",
    "xp_train.GarageYrBlt.fillna(xp_train.YearBuilt, inplace=True)\n",
    "s = (xp_train.dtypes == 'object')\n",
    "obj_col = list(s[s].index)"
   ]
  },
  {
   "cell_type": "code",
   "execution_count": 6,
   "metadata": {},
   "outputs": [],
   "source": [
    "X = xp_train.drop(['SalePrice', 'MiscFeature', 'Alley', 'PoolQC', 'Fence' , 'FireplaceQu'], axis=1)\n",
    "y = xp_train.SalePrice\n",
    "\n",
    "numerical_cols = [col for col in X.columns if X[col].dtype in ['int64', 'float64']]\n",
    "\n",
    "categorical_cols = [col for col in X.columns if X[col].dtype == \"object\"]\n",
    "\n",
    "train_X, val_X, train_y, val_y = train_test_split(X, y, train_size=0.8, test_size=0.2)"
   ]
  },
  {
   "cell_type": "code",
   "execution_count": 7,
   "metadata": {},
   "outputs": [],
   "source": [
    "from sklearn.compose import ColumnTransformer\n",
    "from sklearn.pipeline import Pipeline\n",
    "from sklearn.impute import SimpleImputer\n",
    "from sklearn.preprocessing import OneHotEncoder\n",
    "from sklearn.ensemble import RandomForestRegressor\n",
    "from sklearn.metrics import mean_absolute_error\n",
    "\n",
    "numerical_transformer = SimpleImputer(strategy='median')\n",
    "categorical_transformer = Pipeline(steps=[\n",
    "    ('imputer', SimpleImputer(strategy='most_frequent')),\n",
    "    ('onehot', OneHotEncoder(handle_unknown='ignore'))\n",
    "])\n",
    "\n",
    "preprocessor = ColumnTransformer(\n",
    "    transformers=[\n",
    "        ('num', numerical_transformer, numerical_cols),\n",
    "        ('cat', categorical_transformer, categorical_cols)\n",
    "    ])\n",
    "\n",
    "model = RandomForestRegressor(n_estimators=1000, random_state=0)\n",
    "clf = Pipeline(steps=[('preprocessor', preprocessor),\n",
    "                      ('model', model)\n",
    "                     ])\n",
    "clf.fit(train_X, train_y)\n",
    "preds = clf.predict(val_X)"
   ]
  },
  {
   "cell_type": "code",
   "execution_count": 8,
   "metadata": {
    "tags": []
   },
   "outputs": [
    {
     "output_type": "stream",
     "name": "stdout",
     "text": "17841.74954452055\n0.8538167461181141\n"
    }
   ],
   "source": [
    "print(mean_absolute_error(val_y, preds))\n",
    "print(clf.score(val_X,val_y))"
   ]
  },
  {
   "cell_type": "code",
   "execution_count": 9,
   "metadata": {
    "tags": []
   },
   "outputs": [
    {
     "output_type": "stream",
     "name": "stdout",
     "text": "17524.218121254282\n0.8867700668980507\n"
    }
   ],
   "source": [
    "from xgboost import XGBRegressor\n",
    "\n",
    "model_2 = XGBRegressor(n_estimators=1000)\n",
    "model_2_pl = Pipeline(steps=[('preprocessor', preprocessor),\n",
    "                            ('model_2',model_2)])\n",
    "\n",
    "model_2_pl.fit(train_X, train_y)\n",
    "prediction = model_2_pl.predict(val_X)\n",
    "\n",
    "print(mean_absolute_error(val_y, prediction))\n",
    "print(model_2_pl.score(val_X,val_y))\n"
   ]
  },
  {
   "cell_type": "code",
   "execution_count": null,
   "metadata": {},
   "outputs": [],
   "source": []
  }
 ]
}